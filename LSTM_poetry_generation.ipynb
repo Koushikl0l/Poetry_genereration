{
 "cells": [
  {
   "cell_type": "markdown",
   "metadata": {
    "id": "view-in-github"
   },
   "source": [
    "<a href=\"https://colab.research.google.com/github/lmoroney/dlaicourse/blob/master/TensorFlow%20In%20Practice/Course%203%20-%20NLP/Course%203%20-%20Week%204%20-%20Lesson%202%20-%20Notebook.ipynb\" target=\"_parent\"><img src=\"https://colab.research.google.com/assets/colab-badge.svg\" alt=\"Open In Colab\"/></a>"
   ]
  },
  {
   "cell_type": "code",
   "execution_count": 1,
   "metadata": {
    "id": "BOwsuGQQY9OL"
   },
   "outputs": [
    {
     "name": "stderr",
     "output_type": "stream",
     "text": [
      "2023-07-25 04:50:57.249523: I tensorflow/core/platform/cpu_feature_guard.cc:182] This TensorFlow binary is optimized to use available CPU instructions in performance-critical operations.\n",
      "To enable the following instructions: AVX2 FMA, in other operations, rebuild TensorFlow with the appropriate compiler flags.\n"
     ]
    }
   ],
   "source": [
    "import tensorflow as tf\n",
    "import tensorflowjs as tfjs\n",
    "from tensorflow.keras.preprocessing.sequence import pad_sequences\n",
    "from tensorflow.keras.layers import Embedding, LSTM, Dense, Bidirectional\n",
    "from tensorflow.keras.preprocessing.text import Tokenizer\n",
    "from tensorflow.keras.models import Sequential\n",
    "from tensorflow.keras.optimizers import Adam\n",
    "from tensorflow.keras.callbacks import EarlyStopping\n",
    "import numpy as np"
   ]
  },
  {
   "cell_type": "code",
   "execution_count": 28,
   "metadata": {
    "id": "pylt5qZYsWPh"
   },
   "outputs": [],
   "source": [
    "\n",
    "#!wget --no-check-certificate \\\n",
    "#    https://storage.googleapis.com/learning-datasets/irish-lyrics-eof.txt \\\n",
    "#    -O /tmp/irish-lyrics-eof.txt\n",
    "\n"
   ]
  },
  {
   "cell_type": "code",
   "execution_count": 2,
   "metadata": {},
   "outputs": [],
   "source": [
    "data=['Knowledge and information: Books are an excellent source of knowledge and information. They can provide us with valuable insights, ideas, and perspectives on a wide range of subjects. Reading books can also help us learn new skills and gain new knowledge.',\n",
    "      'Mental stimulation: Reading books can help stimulate our minds and improve our cognitive abilities. It can help improve our vocabulary, memory, and concentration.',\n",
    "      'Relaxation and stress reduction: Reading books can be a great way to relax and reduce stress. It can provide a break from the hectic pace of daily life and help us unwind.',\n",
    "      'Emotional intelligence: Reading books can also help us develop our emotional intelligence. It can help us understand and empathize with different perspectives and experiences.'\n",
    "      'Improved creativity: Reading books can help improve our creativity by exposing us to new ideas, perspectives, and ways of thinking.',\n",
    "      'Art is a broad term that encompasses a wide range of creative expressions and mediums, including visual arts, performing arts, literature, music, and more. At its core, art is a form of human expression that communicates ideas, emotions, and experiences to others. It can be used to convey a message, tell a story, evoke an emotional response, or simply provide aesthetic enjoyment.',\n",
    "      'Art can take many different forms, including painting, sculpture, photography, dance, theater, literature, and music. It can be representational or abstract, realistic or fantastical, traditional or experimental. While there is no one definitive definition of art, it is generally considered to be a form of creative expression that is valued for its aesthetic or cultural significance.',\n",
    "      'Art is also often associated with skill and craftsmanship, as artists must possess a certain level of technical ability to create their work. However, art is not limited to traditional notions of beauty or technical proficiency. Many artists use their medium to challenge societal norms, provoke thought, or provide social commentary.',\n",
    "      'Ultimately, the meaning and value of art is subjective, and varies from person to person. Some may appreciate art for its beauty, while others may be drawn to its emotional or intellectual depth. Regardless of ones personal taste, art has the power to inspire, challenge, and connect us with others.',\n",
    "      'Education is one of the most important pillars of any society, as it shapes the knowledge and skills of individuals and prepares them for their future roles. In recent years, technology has played an increasingly significant role in education, transforming the way students learn and teachers teach. At the same time, there has been an ongoing debate about the value of a liberal arts education and the purpose of education itself. This essay will explore these three topics in more detail.',\n",
    "      'The Role of Technology in Education Technology has become an integral part of education, as it provides students with access to vast amounts of information and enables them to learn in new and innovative ways. With the rise of the internet, students can now access a wealth of resources online, including textbooks, articles, and videos. This has made it easier for students to conduct research and study at their own pace, regardless of their location.',\n",
    "      'In addition, technology has transformed the classroom experience, with teachers using digital tools to engage and interact with their students. For example, teachers can use online platforms to create interactive lessons, gamify learning, and assess student progress in real-time. Moreover, the COVID-19 pandemic has accelerated the adoption of remote learning, making technology an essential component of education in the 21st century.',\n",
    "      'The Value of a Liberal Arts Education.A liberal arts education is a type of education that emphasizes a broad-based curriculum, including subjects such as literature, history, philosophy, and the arts. This type of education is often contrasted with a more specialized education, which focuses on a specific field or industry. The value of a liberal arts education lies in its ability to foster critical thinking, creativity, and a broad perspective on the world.',\n",
    "      'The purpose of education is a subject of ongoing debate, as different stakeholders have different opinions on what the ultimate goal of education should be. Some argue that the purpose of education is to prepare students for the workforce, while others believe that education should focus on personal development and self-discovery.',\n",
    "      'Technology has become an essential component of education, transforming the way students learn and teachers teach. A liberal arts education provides students with a broad-based curriculum that fosters critical thinking, creativity, and a deeper understanding of the world around them. The purpose of education is to prepare students for their future careers while also fostering personal growth and development, instilling values such as curiosity, creativity, and a sense of social responsibility. In combination, these elements provide a solid foundation for a well-rounded and successful education.',\n",
    "      'The trends of youth are often considered to be the most effective means of understanding modern culture. While it is true that youth are often at the forefront of social and cultural change, it is equally important to consider the perspectives and experiences of other groups within society. By focusing solely on the trends of youth, we may overlook important aspects of modern culture that are shaped by factors such as historical context, economic forces, and political influences. Furthermore, a narrow focus on youth trends can also lead to a distorted view of culture, as the experiences and perspectives of young people may not be representative of the larger society.',\n",
    "      'The notion that a leaders effectiveness can be best determined by the well-being of their citizens is a commonly held belief. However, this idea raises several questions and concerns. For example, how is \"well-being\" defined and measured? Are there factors beyond a leaders control that contribute to the well-being of their citizens, such as natural disasters or economic recession? Is it fair to solely attribute the success or failure of a country to its leader, without considering other factors such as the actions of previous leaders or the involvement of other countries and organizations?',\n",
    "      'Furthermore, there are numerous examples of leaders who have maintained power despite having a negative impact on the well-being of their citizens. In some cases, leaders may prioritize their own interests or those of a select group over the well-being of the general population. This raises the question of whether a leaders effectiveness should be judged based on their intentions or their results.',\n",
    "      'Society should focus on addressing the consequences of its own actions. If a species is endangered due to human activities such as habitat destruction, over-hunting, or pollution, then it is morally and ethically responsible to make efforts to save it. By doing so, society can mitigate the harm it has caused and demonstrate a commitment to preserving the natural world.',\n",
    "      'All species play a vital role in maintaining the balance of ecosystems, regardless of the cause of their endangerment. Natural disasters, disease, and climate change are just a few examples of non-human causes of species endangerment. If society only focuses on saving species endangered by human activities, it risks overlooking species that are equally important to the health of the planet.',\n",
    "      'Educational institutions have a responsibility to guide students towards a successful future and equip them with the necessary skills and knowledge to achieve their goals. However, it has become a common trend for students to chase after fields of study that they may not be suited for or have the necessary aptitude to succeed in. This can result in frustration, low academic performance, and eventually lead to dropping out of college or changing majors.',\n",
    "      'Discouraging students from pursuing fields of study in which they are unlikely to succeed is a necessary step to ensure that students are not setting themselves up for failure. By providing students with accurate assessments of their strengths and weaknesses, as well as information about the demands and expectations of different fields of study, educational institutions can help students make informed decisions about their futures. Additionally, educational institutions can provide students with alternative educational paths and resources to support their growth and success in areas that align with their abilities.',\n",
    "      'Furthermore, pursuing fields of study that are not a good fit can also result in a waste of time and resources. This can put a strain on the student’s finances, as well as contribute to the growing student debt crisis. By guiding students towards fields of study that they have a better chance of succeeding in, educational institutions can help to minimize the financial burden on students and ensure that their time and resources are well spent.',\n",
    "      'The human mind will always be superior to machines because it has unique qualities, such as creativity, empathy, and intuition, that cannot be replicated by machines. The human mind has the ability to think beyond its programming and come up with innovative solutions to problems, whereas machines are limited by the algorithms and programming they were designed with.',\n",
    "      'On the other hand, machines are rapidly advancing and improving, with the development of artificial intelligence and machine learning. Machines can process and analyze vast amounts of data at a speed that is far beyond the capability of human minds. They can also store vast amounts of information and recall it accurately, which is something that the human mind struggles to do. As machines continue to evolve, they may eventually surpass human minds in certain areas, such as mathematical calculations and decision-making based on data.',\n",
    "      'In todays political climate, there is often a tendency for politicians to prioritize their own ideals over the well-being of the people they serve. This can lead to divisive and ineffective governance, as politicians become more concerned with winning arguments and pleasing their base than with finding solutions that benefit everyone. In order to best serve their constituents, it is crucial that politicians prioritize common ground and reasonable consensus over elusive ideals.',\n",
    "      'On the one hand, politicians who focus solely on their own ideals risk becoming disconnected from the needs and concerns of the people they represent. This can lead to policies that are out of touch with reality and that do not effectively address the problems faced by their constituents. For example, a politician who is committed to a strict interpretation of a particular ideology may overlook practical solutions that would be more effective in addressing a particular issue.'\n",
    "      ' politicians who prioritize common ground and reasonable consensus are more likely to find solutions that are broadly supported and that can have a positive impact on the lives of the people they serve. This is because these politicians are more likely to listen to the concerns and opinions of others, and to engage in constructive dialogue with',\n",
    "      'The statement that peoples attitudes are determined more by their immediate situation or surroundings than by society as a whole is a debatable issue that elicits varying perspectives. On one hand, there are those who believe that ones immediate surroundings play a crucial role in shaping attitudes, while on the other hand, there are those who believe that the influence of society as a whole is stronger.',\n",
    "      ' immediate surroundings such as family, friends, and work environment can have a profound impact on an individuas attitudes and beliefs. For example, people who grow up in households with conservative values are more likely to adopt similar attitudes, while those who grow up in liberal households may develop more progressive attitudes. Similarly, a persons work environment and the people they associate with at work can also play a significant role in shaping their beliefs and attitudes.',\n",
    "\n",
    "      ]"
   ]
  },
  {
   "cell_type": "code",
   "execution_count": 3,
   "metadata": {
    "id": "PRnDnCW-Z7qv"
   },
   "outputs": [
    {
     "name": "stdout",
     "output_type": "stream",
     "text": [
      "Total Sample documents: 28\n",
      "Total Words: 671\n"
     ]
    }
   ],
   "source": [
    "tokenizer = Tokenizer()\n",
    "\n",
    "#data = open('/tmp/poetry_text_generation_data.csv').read()\n",
    "#corpus = data.lower()\n",
    "\n",
    "#tokenizer.fit_on_texts(corpus)\n",
    "tokenizer.fit_on_texts(data)\n",
    "total_words = len(tokenizer.word_index) + 1\n",
    "\n",
    "#print(tokenizer.word_index)\n",
    "print(\"Total Sample documents: \"+str(len(data)))\n",
    "print(\"Total Words: \"+str(total_words))\n"
   ]
  },
  {
   "cell_type": "code",
   "execution_count": 6,
   "metadata": {},
   "outputs": [
    {
     "data": {
      "text/plain": [
       "['Knowledge and information: Books are an excellent source of knowledge and information. They can provide us with valuable insights, ideas, and perspectives on a wide range of subjects. Reading books can also help us learn new skills and gain new knowledge.',\n",
       " 'Mental stimulation: Reading books can help stimulate our minds and improve our cognitive abilities. It can help improve our vocabulary, memory, and concentration.']"
      ]
     },
     "execution_count": 6,
     "metadata": {},
     "output_type": "execute_result"
    }
   ],
   "source": [
    "data[:2]"
   ]
  },
  {
   "cell_type": "code",
   "execution_count": 4,
   "metadata": {
    "id": "soPGVheskaQP"
   },
   "outputs": [
    {
     "name": "stdout",
     "output_type": "stream",
     "text": [
      "135\n"
     ]
    }
   ],
   "source": [
    "input_sequences = []\n",
    "for line in data:\n",
    "\ttoken_list = tokenizer.texts_to_sequences([line])[0]\n",
    "\tfor i in range(1, len(token_list)):\n",
    "\t\tn_gram_sequence = token_list[:i+1]\n",
    "\t\tinput_sequences.append(n_gram_sequence)\n",
    "\n",
    "# pad sequences\n",
    "max_sequence_len = max([len(x) for x in input_sequences])\n",
    "print(max_sequence_len)\n",
    "input_sequences = np.array(pad_sequences(input_sequences, maxlen=max_sequence_len, padding='pre'))\n",
    "\n",
    "# create predictors and label\n",
    "xs, labels = input_sequences[:,:-1],input_sequences[:,-1]\n",
    "\n",
    "ys = tf.keras.utils.to_categorical(labels, num_classes=total_words)"
   ]
  },
  {
   "cell_type": "code",
   "execution_count": 8,
   "metadata": {
    "id": "w9vH8Y59ajYL"
   },
   "outputs": [
    {
     "name": "stderr",
     "output_type": "stream",
     "text": [
      "WARNING:absl:`lr` is deprecated in Keras optimizer, please use `learning_rate` or use the legacy optimizer, e.g.,tf.keras.optimizers.legacy.Adam.\n"
     ]
    },
    {
     "name": "stdout",
     "output_type": "stream",
     "text": [
      "Total Layers: 4\n"
     ]
    }
   ],
   "source": [
    "model = Sequential()\n",
    "model.add(Embedding(total_words, 20, input_length=max_sequence_len-1))\n",
    "model.add(Bidirectional(LSTM(50,return_sequences=True)))\n",
    "model.add(Bidirectional(LSTM(100)))\n",
    "model.add(Dense(total_words, activation='softmax'))\n",
    "adam = Adam(lr=0.01)\n",
    "model.compile(loss='categorical_crossentropy', optimizer=adam, metrics=['accuracy'])\n",
    "print(\"Total Layers: \"+str(len(model.layers)))"
   ]
  },
  {
   "cell_type": "code",
   "execution_count": 9,
   "metadata": {},
   "outputs": [
    {
     "name": "stdout",
     "output_type": "stream",
     "text": [
      "Epoch 1/50\n",
      "60/60 [==============================] - 21s 203ms/step - loss: 6.1439 - accuracy: 0.0412\n",
      "Epoch 2/50\n",
      "60/60 [==============================] - 13s 210ms/step - loss: 5.7414 - accuracy: 0.0369\n",
      "Epoch 3/50\n",
      "60/60 [==============================] - 12s 199ms/step - loss: 5.7038 - accuracy: 0.0380\n",
      "Epoch 4/50\n",
      "60/60 [==============================] - 12s 198ms/step - loss: 5.6733 - accuracy: 0.0449\n",
      "Epoch 5/50\n",
      "60/60 [==============================] - 12s 207ms/step - loss: 5.6168 - accuracy: 0.0485\n",
      "Epoch 6/50\n",
      "60/60 [==============================] - 16s 263ms/step - loss: 5.5172 - accuracy: 0.0464\n",
      "Epoch 7/50\n",
      "60/60 [==============================] - 16s 258ms/step - loss: 5.3602 - accuracy: 0.0533\n",
      "Epoch 8/50\n",
      "60/60 [==============================] - 13s 214ms/step - loss: 5.2272 - accuracy: 0.0654\n",
      "Epoch 9/50\n",
      "60/60 [==============================] - 12s 203ms/step - loss: 5.0824 - accuracy: 0.0718\n",
      "Epoch 10/50\n",
      "60/60 [==============================] - 12s 195ms/step - loss: 4.9300 - accuracy: 0.0765\n",
      "Epoch 11/50\n",
      "60/60 [==============================] - 12s 206ms/step - loss: 4.8181 - accuracy: 0.0887\n",
      "Epoch 12/50\n",
      "60/60 [==============================] - 12s 201ms/step - loss: 4.6735 - accuracy: 0.0929\n",
      "Epoch 13/50\n",
      "60/60 [==============================] - 15s 253ms/step - loss: 4.5593 - accuracy: 0.0971\n",
      "Epoch 14/50\n",
      "60/60 [==============================] - 12s 207ms/step - loss: 4.4583 - accuracy: 0.1029\n",
      "Epoch 15/50\n",
      "60/60 [==============================] - 12s 198ms/step - loss: 4.3580 - accuracy: 0.1087\n",
      "Epoch 16/50\n",
      "60/60 [==============================] - 12s 193ms/step - loss: 4.2180 - accuracy: 0.1193\n",
      "Epoch 17/50\n",
      "60/60 [==============================] - 21s 353ms/step - loss: 4.1684 - accuracy: 0.1193\n",
      "Epoch 18/50\n",
      "60/60 [==============================] - 14s 237ms/step - loss: 4.0347 - accuracy: 0.1340\n",
      "Epoch 19/50\n",
      "60/60 [==============================] - 11s 190ms/step - loss: 3.9321 - accuracy: 0.1314\n",
      "Epoch 20/50\n",
      "60/60 [==============================] - 11s 187ms/step - loss: 3.8504 - accuracy: 0.1483\n",
      "Epoch 21/50\n",
      "60/60 [==============================] - 11s 188ms/step - loss: 3.7919 - accuracy: 0.1472\n",
      "Epoch 22/50\n",
      "60/60 [==============================] - 11s 190ms/step - loss: 3.6745 - accuracy: 0.1715\n",
      "Epoch 23/50\n",
      "60/60 [==============================] - 14s 238ms/step - loss: 3.5647 - accuracy: 0.1726\n",
      "Epoch 24/50\n",
      "60/60 [==============================] - 12s 207ms/step - loss: 3.4684 - accuracy: 0.1847\n",
      "Epoch 25/50\n",
      "60/60 [==============================] - 12s 193ms/step - loss: 3.3674 - accuracy: 0.2032\n",
      "Epoch 26/50\n",
      "60/60 [==============================] - 16s 270ms/step - loss: 3.2751 - accuracy: 0.2269\n",
      "Epoch 27/50\n",
      "60/60 [==============================] - 13s 212ms/step - loss: 3.2404 - accuracy: 0.2301\n",
      "Epoch 28/50\n",
      "60/60 [==============================] - 12s 201ms/step - loss: 3.1322 - accuracy: 0.2586\n",
      "Epoch 29/50\n",
      "60/60 [==============================] - 14s 225ms/step - loss: 3.0205 - accuracy: 0.2744\n",
      "Epoch 30/50\n",
      "60/60 [==============================] - 13s 217ms/step - loss: 2.9592 - accuracy: 0.2966\n",
      "Epoch 31/50\n",
      "60/60 [==============================] - 13s 214ms/step - loss: 2.9570 - accuracy: 0.2881\n",
      "Epoch 32/50\n",
      "60/60 [==============================] - 14s 225ms/step - loss: 2.8592 - accuracy: 0.3077\n",
      "Epoch 33/50\n",
      "60/60 [==============================] - 12s 197ms/step - loss: 2.7712 - accuracy: 0.3298\n",
      "Epoch 34/50\n",
      "60/60 [==============================] - 12s 192ms/step - loss: 2.6574 - accuracy: 0.3615\n",
      "Epoch 35/50\n",
      "60/60 [==============================] - 13s 224ms/step - loss: 2.5762 - accuracy: 0.3963\n",
      "Epoch 36/50\n",
      "60/60 [==============================] - 12s 200ms/step - loss: 2.5243 - accuracy: 0.4111\n",
      "Epoch 37/50\n",
      "60/60 [==============================] - 12s 195ms/step - loss: 2.4247 - accuracy: 0.4206\n",
      "Epoch 38/50\n",
      "60/60 [==============================] - 12s 199ms/step - loss: 2.3366 - accuracy: 0.4449\n",
      "Epoch 39/50\n",
      "60/60 [==============================] - 16s 267ms/step - loss: 2.5355 - accuracy: 0.3974\n",
      "Epoch 40/50\n",
      "60/60 [==============================] - 18s 292ms/step - loss: 2.3269 - accuracy: 0.4565\n",
      "Epoch 41/50\n",
      "60/60 [==============================] - 13s 209ms/step - loss: 2.1584 - accuracy: 0.5029\n",
      "Epoch 42/50\n",
      "60/60 [==============================] - 13s 217ms/step - loss: 2.0706 - accuracy: 0.5309\n",
      "Epoch 43/50\n",
      "60/60 [==============================] - 13s 221ms/step - loss: 2.0009 - accuracy: 0.5377\n",
      "Epoch 44/50\n",
      "60/60 [==============================] - 17s 277ms/step - loss: 1.9441 - accuracy: 0.5673\n",
      "Epoch 45/50\n",
      "60/60 [==============================] - 15s 242ms/step - loss: 1.8803 - accuracy: 0.5778\n",
      "Epoch 46/50\n",
      "60/60 [==============================] - 13s 218ms/step - loss: 1.8373 - accuracy: 0.5942\n",
      "Epoch 47/50\n",
      "60/60 [==============================] - 15s 257ms/step - loss: 1.7446 - accuracy: 0.6201\n",
      "Epoch 48/50\n",
      "60/60 [==============================] - 14s 226ms/step - loss: 1.6959 - accuracy: 0.6317\n",
      "Epoch 49/50\n",
      "60/60 [==============================] - 14s 226ms/step - loss: 1.6549 - accuracy: 0.6354\n",
      "Epoch 50/50\n",
      "60/60 [==============================] - 15s 256ms/step - loss: 1.5762 - accuracy: 0.6649\n"
     ]
    }
   ],
   "source": [
    "earlystop = EarlyStopping(monitor='loss', min_delta=0, patience=5, verbose=0, mode='auto')\n",
    "history = model.fit(xs, ys, epochs=50, verbose=1,callbacks=[earlystop])\n",
    "#print model.summary()"
   ]
  },
  {
   "cell_type": "markdown",
   "metadata": {},
   "source": [
    "## Save and Load Model"
   ]
  },
  {
   "cell_type": "code",
   "execution_count": 10,
   "metadata": {},
   "outputs": [
    {
     "name": "stderr",
     "output_type": "stream",
     "text": [
      "/usr/local/lib/python3.11/site-packages/keras/src/engine/training.py:3000: UserWarning: You are saving your model as an HDF5 file via `model.save()`. This file format is considered legacy. We recommend using instead the native Keras format, e.g. `model.save('my_model.keras')`.\n",
      "  saving_api.save_model(\n"
     ]
    }
   ],
   "source": [
    "model.save('saved_poetry_generation.h5')\n",
    "new_model = tf.keras.models.load_model('saved_poetry_generation.h5')"
   ]
  },
  {
   "cell_type": "code",
   "execution_count": 11,
   "metadata": {},
   "outputs": [],
   "source": [
    "tfjs.converters.save_keras_model(model,'model_poetry_js')"
   ]
  },
  {
   "cell_type": "code",
   "execution_count": 12,
   "metadata": {
    "id": "3YXGelKThoTT"
   },
   "outputs": [],
   "source": [
    "import matplotlib.pyplot as plt\n",
    "\n",
    "\n",
    "def plot_graphs(history, string):\n",
    "  plt.plot(history.history[string])\n",
    "  plt.xlabel(\"Epochs\")\n",
    "  plt.ylabel(string)\n",
    "  plt.show()"
   ]
  },
  {
   "cell_type": "code",
   "execution_count": 13,
   "metadata": {
    "id": "poeprYK8h-c7"
   },
   "outputs": [
    {
     "data": {
      "image/png": "[encoded data removed]",
      "text/plain": [
       "<Figure size 640x480 with 1 Axes>"
      ]
     },
     "metadata": {},
     "output_type": "display_data"
    }
   ],
   "source": [
    "plot_graphs(history, 'accuracy')"
   ]
  },
  {
   "cell_type": "code",
   "execution_count": 15,
   "metadata": {
    "id": "6Vc6PHgxa6Hm"
   },
   "outputs": [
    {
     "name": "stdout",
     "output_type": "stream",
     "text": [
      "1/1 [==============================] - 0s 47ms/step\n",
      "1/1 [==============================] - 0s 36ms/step\n",
      "1/1 [==============================] - 0s 37ms/step\n",
      "1/1 [==============================] - 0s 36ms/step\n",
      "1/1 [==============================] - 0s 39ms/step\n",
      "1/1 [==============================] - 0s 34ms/step\n",
      "1/1 [==============================] - 0s 35ms/step\n",
      "1/1 [==============================] - 0s 37ms/step\n",
      "1/1 [==============================] - 0s 39ms/step\n",
      "1/1 [==============================] - 0s 36ms/step\n",
      "1/1 [==============================] - 0s 38ms/step\n",
      "1/1 [==============================] - 0s 60ms/step\n",
      "1/1 [==============================] - 0s 43ms/step\n",
      "1/1 [==============================] - 0s 44ms/step\n",
      "1/1 [==============================] - 0s 41ms/step\n",
      "1/1 [==============================] - 0s 46ms/step\n",
      "1/1 [==============================] - 0s 37ms/step\n",
      "1/1 [==============================] - 0s 35ms/step\n",
      "1/1 [==============================] - 0s 38ms/step\n",
      "1/1 [==============================] - 0s 43ms/step\n",
      "art is necessary a subject of be advancing and improving and development and negative impact and resources being of the people being of\n"
     ]
    }
   ],
   "source": [
    "seed_text = \"art is necessary\"\n",
    "next_words = 20\n",
    "\n",
    "for _ in range(next_words):\n",
    "\ttoken_list = tokenizer.texts_to_sequences([seed_text])[0]\n",
    "\ttoken_list = pad_sequences([token_list], maxlen=max_sequence_len-1, padding='pre')\n",
    "\tpredicted = np.argmax(model.predict(token_list), axis=-1)\n",
    "\toutput_word = \"\"\n",
    "\tfor word, index in tokenizer.word_index.items():\n",
    "\t\tif index == predicted:\n",
    "\t\t\toutput_word = word\n",
    "\t\t\tbreak\n",
    "\tseed_text += \" \" + output_word\n",
    "print(seed_text)"
   ]
  },
  {
   "cell_type": "markdown",
   "metadata": {},
   "source": [
    "### Input - Output:\n",
    "q:machine has the ability </br>\n",
    "a:to think beyond its programming and come up with innovative solutions to problems whereas machines are limited by the algorithms\n",
    "\n",
    "q:human brain </br>\n",
    "a:can perform up about the demands and expectations of different fields of study educational institutions can help students make informed decisions about\n",
    "\n",
    "q:art </br>\n",
    "a:is also often associated with skill and craftsmanship as artists must possess a certain level of technical ability to create\n"
   ]
  },
  {
   "cell_type": "code",
   "execution_count": null,
   "metadata": {},
   "outputs": [],
   "source": []
  }
 ],
 "metadata": {
  "accelerator": "GPU",
  "colab": {
   "name": "Course 3 - Week 4 - Lesson 2 - Notebook.ipynb",
   "provenance": [],
   "toc_visible": true
  },
  "kernelspec": {
   "display_name": "Python 3 (ipykernel)",
   "language": "python",
   "name": "python3"
  },
  "language_info": {
   "codemirror_mode": {
    "name": "ipython",
    "version": 3
   },
   "file_extension": ".py",
   "mimetype": "text/x-python",
   "name": "python",
   "nbconvert_exporter": "python",
   "pygments_lexer": "ipython3",
   "version": "3.11.4"
  }
 },
 "nbformat": 4,
 "nbformat_minor": 4
}
